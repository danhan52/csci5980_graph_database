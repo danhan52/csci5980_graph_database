{
 "cells": [
  {
   "cell_type": "markdown",
   "metadata": {},
   "source": [
    "## Accessing AWS Neo4J"
   ]
  },
  {
   "cell_type": "code",
   "execution_count": null,
   "metadata": {
    "collapsed": true
   },
   "outputs": [],
   "source": []
  },
  {
   "cell_type": "markdown",
   "metadata": {},
   "source": [
    "## Easy Questions \n",
    "1) Which attributes have null values and if they do how many null values are there?  \n",
    "2) How many items from the metadata dataset do not fall under the 5-core constraint?  (run against prod)  \n",
    "3) What is the average price and sales rank (how well the product sells within its category) of those products?  "
   ]
  },
  {
   "cell_type": "code",
   "execution_count": null,
   "metadata": {
    "collapsed": true
   },
   "outputs": [],
   "source": [
    "##1) Which attributes have null values and if they do how many null values are there?\n",
    "#number Persons with name = NULL; if returned count = 0 then property does not contain NULL\n",
    "query1_1=\"MATCH (p:Person) WHERE p.id IS NULL RETURN count(p) as null_cnt\" #0\n",
    "query1_2=\"MATCH (p:Person) WHERE p.name IS NULL RETURN count(p) as null_cnt\" #59975\n",
    "query1_3=\"MATCH (p:Product) WHERE p.id IS NULL RETURN count(p) as null_cnt\" #0\n",
    "query1_4=\"MATCH (p:Product) WHERE p.name IS NULL RETURN count(p) as null_cnt\" #289886\n",
    "query1_5=\"MATCH (p:Product) WHERE p.brand IS NULL RETURN count(p) as null_cnt\" #1129355\n",
    "query1_6=\"MATCH (p:Product) WHERE p.price IS NULL RETURN count(p) as null_cnt\" #274408\n",
    "query1_7=\"MATCH (p:Product) WHERE p.categories IS NULL RETURN count(p) as null_cnt\" #\n",
    "query1_8=\"MATCH (p:Product) WHERE p.rank IS NULL RETURN count(p) as null_cnt\" #\n",
    "query1_9=\"MATCH (p:Product) WHERE p.rankCat IS NULL RETURN count(p) as null_cnt\" #\n",
    "query1_10=\"MATCH (p:Product) WHERE p.imUrl IS NULL RETURN count(p) as null_cnt\" #\n",
    "query1_11=\"MATCH ()-[r:Reviewed]->() WHERE r.ts IS NULL RETURN count(r) as null_cnt\" #0\n",
    "query1_12=\"MATCH ()-[r:Reviewed]->() WHERE r.score IS NULL RETURN count(r) as null_cnt\" #\n",
    "query1_13=\"MATCH ()-[r:Reviewed]->() WHERE r.helpful1 IS NULL RETURN count(r) as null_cnt\" #\n",
    "query1_14=\"MATCH ()-[r:Reviewed]->() WHERE r.helpful0 IS NULL RETURN count(r) as null_cnt\" #\n",
    "query1_15=\"MATCH ()-[r:Reviewed]->() WHERE r.summary IS NULL RETURN count(r) as null_cnt\" #\n",
    "query1_16=\"MATCH ()-[r:Reviewed]->() WHERE r.reviewText IS NULL RETURN count(r) as null_cnt\" #"
   ]
  },
  {
   "cell_type": "code",
   "execution_count": null,
   "metadata": {
    "collapsed": true
   },
   "outputs": [],
   "source": [
    "##2) How many products from the metadata dataset are not 5-core products?\n",
    "#find products that have no reviews\n",
    "query2=\"MATCH (n:Product) WHERE not ((n)<-[:Reviewed]-(:Person)) RETURN count(n) as null_cnt\""
   ]
  },
  {
   "cell_type": "code",
   "execution_count": null,
   "metadata": {
    "collapsed": true
   },
   "outputs": [],
   "source": [
    "##3) What is the average price of those products? by category?\n",
    "#overall average price\n",
    "query3_1=\"MATCH (n:Product) RETURN AVG(tointeger(n.price))\"\n",
    "#average price by category\n",
    "query3_2=\"MATCH (n:Product) RETURN AVG(tointeger(n.price)),n.categories\"\n",
    "#max price by category\n",
    "query3_3=\"MATCH (n:Product) RETURN MAX(tointeger(n.price)) as max_price,n.categories ORDER BY max_price DESC LIMIT 5\"\n",
    "#overall average rating\n",
    "query3_4=\"MATCH (n:Product)-[r]-() RETURN avg(tointeger(r.score))\"\n",
    "#average rating by category\n",
    "query3_5=\"MATCH (n:Product)-[r]-() RETURN count(n),avg(tointeger(r.score)) AS avg_s,n.categories ORDER BY avg_s DESC\"\n",
    "#max number of helpful of a single review\n",
    "query3_6=\"\"\"MATCH (n:Product)<-[r:Reviewed]-(:Person) \n",
    "            RETURN max(toInteger(r.helpful1)),r,n.name,n.categories \n",
    "            ORDER BY r.helpful1 DESC LIMIT 10\"\"\""
   ]
  },
  {
   "cell_type": "markdown",
   "metadata": {},
   "source": [
    "## Medium Questions\n",
    "4) Can two products with different IDs share the same name?  \n",
    "5) Can a user review the same product twice?  "
   ]
  },
  {
   "cell_type": "code",
   "execution_count": null,
   "metadata": {
    "collapsed": true
   },
   "outputs": [],
   "source": [
    "##4) Can two products with different IDs share the same name?  \n",
    "#get count of all products with names that appear in more than one product node\n",
    "query4=\"MATCH (n:Product) WITH n.name as name, count(*) as cnt WHERE cnt>1 RETURN name, cnt\""
   ]
  },
  {
   "cell_type": "code",
   "execution_count": null,
   "metadata": {
    "collapsed": true
   },
   "outputs": [],
   "source": [
    "##5) Can a user review the same product twice?\n",
    "#find more than one set of identical paths\n",
    "query5=\"MATCH (a)-[r]->(b) WITH a, b, TAIL (COLLECT (r)) as rr WHERE length(rr) > 0 RETURN a, b\""
   ]
  },
  {
   "cell_type": "markdown",
   "metadata": {},
   "source": [
    "## Hard Questions\n",
    "6) Create product recommendation algorithm.  \n"
   ]
  },
  {
   "cell_type": "code",
   "execution_count": null,
   "metadata": {
    "collapsed": true
   },
   "outputs": [],
   "source": [
    "#Find a book that have the words \"...\"\n",
    "query6_1=\"\"\"MATCH (a:Product)\n",
    "WHERE a.categories=\"[['Books']]\" and a.name=~\"The Warriors.*\"\n",
    "RETURN a limit 5\"\"\"\n",
    "\n",
    "#calculate cost of path between two nodes\n",
    "query6_2=\"\"\"MATCH p=(a:Product {id: '0007278446'})<-[:Reviewed*2]->(b:Product {id: '0060080817'})\n",
    "RETURN REDUCE (total = 0, r in relationships(p) | total + tointeger(r.score))\"\"\"\n",
    "\n",
    "#get all 2 degree path for node, id = 0007278446; demo in neo4J to show graph\n",
    "query6_3=\"\"\"MATCH p=(a:Product {id: '0007278446'})<-[:Reviewed*2]->(b:Product)\n",
    "RETURN p\"\"\"\n",
    "\n",
    "#Return top 5 highest cost path where second edge weight > first edge weight (Recommended Products)\n",
    "query6_4=\"\"\"MATCH p=(a:Product {id: '0007278446'})<-[:Reviewed*2]->(b:Product)\n",
    "WITH  extract(s in relationships(p) | tointeger(s.score)) as p_collect,a,b\n",
    "WITH  p_collect[0] as s1,p_collect[1] as s2,a,b\n",
    "WHERE s2>=s1 and (b.name is not null or b.name <>\"\")\n",
    "RETURN a.id,b.id,b.name, s1,s2,s1+s2 as cost\n",
    "ORDER BY cost DESC LIMIT 5\"\"\""
   ]
  },
  {
   "cell_type": "code",
   "execution_count": null,
   "metadata": {
    "collapsed": true
   },
   "outputs": [],
   "source": [
    "#replace \"query\" with intended run query from above, i.e. graph.evaluate(query6_1)\n",
    "graph.evaluate(query)"
   ]
  }
 ],
 "metadata": {
  "kernelspec": {
   "display_name": "Python 3",
   "language": "python",
   "name": "python3"
  },
  "language_info": {
   "codemirror_mode": {
    "name": "ipython",
    "version": 3
   },
   "file_extension": ".py",
   "mimetype": "text/x-python",
   "name": "python",
   "nbconvert_exporter": "python",
   "pygments_lexer": "ipython3",
   "version": "3.6.1"
  }
 },
 "nbformat": 4,
 "nbformat_minor": 2
}
