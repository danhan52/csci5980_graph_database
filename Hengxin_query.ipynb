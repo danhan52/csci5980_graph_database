{
 "cells": [
  {
   "cell_type": "markdown",
   "metadata": {},
   "source": [
    "## Easy questions\n",
    "1) Which attributes have null values and if they do how many null values are there?  \n",
    "2) How many items from the metadata dataset do not fall under the 5-core constraint?  \n",
    "3) What is the average price and sales rank (how well the product sells within its category) of those products?  \n",
    "4) Which product category contains the most of those non-5-core products?\n",
    "\n",
    "## Medium questions\n",
    "1) Average rating score of all products and also the average by each category.  \n",
    "2) Can a user review the same product twice?  \n",
    "3) Can two products with different IDs share the same name?\n",
    "\n",
    "## Hard questions\n",
    "4) Does the length of the written review corresponds to the rating of the product?  \n",
    "5) Whether individuals tend to write reviews within one product category or whether they tend to review a variety of products. Avg. number of categories reviewed per person.  \n",
    "6) Do they give high ratings within one product category and low ratings in a different category. Avg. rating per category per person.  \n",
    "7) Clusters of reviewers who review many of the same products.   \n",
    "8) Average distance spanning any two reviewers or any two products.  "
   ]
  },
  {
   "cell_type": "code",
   "execution_count": 1,
   "metadata": {
    "collapsed": true
   },
   "outputs": [],
   "source": [
    "#setup neo4j instance connection\n",
    "from py2neo import Graph\n",
    "from py2neo import *\n",
    "#enter url for neo4j server here\n",
    "url=\"\"\n",
    "str_list=['http:/',url,'db','data']\n",
    "#enter password here\n",
    "pw=\"\"\n",
    "\n",
    "authenticate(url,\"neo4j\", pw)\n",
    "graph = Graph('/'.join(str_list))\n"
   ]
  },
  {
   "cell_type": "code",
   "execution_count": null,
   "metadata": {
    "collapsed": true
   },
   "outputs": [],
   "source": [
    "##1) Which attributes have null values and if they do how many null values are there?\n",
    "\n",
    "#number Persons with name = NULL; if returned count = 0 then property does not contain NULL\n",
    "query=\"MATCH (p:Person) WHERE p.name IS NULL RETURN count(p) as name_null_cnt\" #2194\n",
    "\n",
    "#number of distinct properties combination each person node has\n",
    "#since there are person nodes with only id attribute hence all other properties other than id have null values\n",
    "#same goes for product\n",
    "query2=\"MATCH (n:Person) RETURN DISTINCT keys(n)\"\n",
    "query3=\"MATCH (n:Product) RETURN DISTINCT keys(n)\"\n",
    "#find node with the most to least properties\n",
    "query4=\"MATCH (n) RETURN labels(n), keys(n), size(keys(n)), count(*) ORDER BY size(keys(n)) DESC\""
   ]
  },
  {
   "cell_type": "code",
   "execution_count": null,
   "metadata": {
    "collapsed": true
   },
   "outputs": [],
   "source": [
    "###2) How many items from the metadata dataset do not fall under the 5-core constraint?\n",
    "#find products with no reviews = 0\n",
    "query5=\"MATCH (n:Product) WHERE not ((n)<-[:Reviewed]-(:Person)) RETURN count(n)\"\n",
    "\n",
    "################\n",
    "#person who reviewed no products\n",
    "#receives SERVICE UNAVAILABLE error, might be OPTIONAL MATCH call\n",
    "\"MATCH (a:Person) OPTIONAL MATCH (a)-[r:Reviewed]->() RETURN a.id, r\""
   ]
  },
  {
   "cell_type": "code",
   "execution_count": null,
   "metadata": {
    "collapsed": true
   },
   "outputs": [],
   "source": [
    "###3) What is the average price of those products?\n",
    "#overall average price\n",
    "query6=\"MATCH (n:Product) RETURN AVG(tointeger(n.price))\"\n",
    "#average price by category\n",
    "query7=\"MATCH (n:Product) RETURN AVG(tointeger(n.price)),n.categories\""
   ]
  },
  {
   "cell_type": "code",
   "execution_count": null,
   "metadata": {
    "collapsed": true
   },
   "outputs": [],
   "source": [
    "###4) Which product category contains the most of those non-5-core products?\n",
    "#get number of products per category\n",
    "\"MATCH (n:Product) RETURN count(n),n.categories\""
   ]
  },
  {
   "cell_type": "code",
   "execution_count": null,
   "metadata": {
    "collapsed": true
   },
   "outputs": [],
   "source": [
    "###1) Average rating score of all products and also the average by each category.\n",
    "#overall average rating\n",
    "query6=\"MATCH (n:Product)-[r]-() RETURN avg(tointeger(r.score))\"\n",
    "#average rating by category\n",
    "query7=\"MATCH (n:Product)-[r]-() RETURN count(n),avg(tointeger(r.score)),n.categories\""
   ]
  },
  {
   "cell_type": "code",
   "execution_count": null,
   "metadata": {
    "collapsed": true
   },
   "outputs": [],
   "source": [
    "###2) Can a user review the same product twice?\n",
    "#user cannot review same product twice\n",
    "query8=\"MATCH (a)-[r]->(b) WITH a, b, TAIL (COLLECT (r)) as rr WHERE length(rr) > 0 RETURN a, b\""
   ]
  },
  {
   "cell_type": "code",
   "execution_count": null,
   "metadata": {
    "collapsed": true
   },
   "outputs": [],
   "source": [
    "###3) Can two products with different IDs share the same name?\n",
    "#There are products with different ID that share the same name\n",
    "query9=\"MATCH (n:Product) WITH n.name as name, count(*) as cnt WHERE cnt>1 RETURN name, cnt\""
   ]
  },
  {
   "cell_type": "code",
   "execution_count": null,
   "metadata": {
    "collapsed": true
   },
   "outputs": [],
   "source": [
    "#shortest path from A to B\n",
    "#make sure direction of arrows are correct\n",
    "#ex. (a)-[*..30]->(b) or (a)<-[*..30]-(b) returns zero\n",
    "query10=\"\"\"MATCH (a:Product {id: '0007278446'}), (b:Product {id: '0007280777'}) \n",
    "           MATCH p=shortestPath((a)<-[*..30]->(b)) \n",
    "           RETURN p\"\"\"\n",
    "\n",
    "#longest shortest path between two persons\n",
    "query11=\"\"\"MATCH (a:Person), (b:Person),\n",
    "           path = allShortestPaths((a)-[*..30]-(b))\n",
    "           WHERE a<>b #prevents common nodes error\n",
    "           RETURN path\n",
    "           ORDER BY LENGTH(path) DESC\n",
    "           LIMIT 1\"\"\""
   ]
  },
  {
   "cell_type": "markdown",
   "metadata": {},
   "source": [
    "## DEMO CODE\n",
    "\n",
    "Difficulties:  \n",
    "1) directly binding prefix, [r:Reviewed], to list of relationships is decomissioned.  \n",
    "2) simple calculations, such as average and sum, become cumbersome; Need to EXTRACT from list first or use REDUCE function. ex. reduce(total = 0, n IN nodes(p)| total + n.score) AS cost  \n"
   ]
  },
  {
   "cell_type": "code",
   "execution_count": null,
   "metadata": {
    "collapsed": true
   },
   "outputs": [],
   "source": [
    "#Find a book that have the words \"...\"\n",
    "query=\"\"\"MATCH (a:Product)\n",
    "WHERE a.categories=\"[['Books']]\" and a.name=~\"The Warriors.*\"\n",
    "RETURN a limit 5\"\"\"\n",
    "\n",
    "#calculate cost of path between two nodes\n",
    "query=\"\"\"MATCH p=(a:Product {id: '0007278446'})<-[:Reviewed*2]->(b:Product {id: '0060080817'})\n",
    "RETURN REDUCE (total = 0, r in relationships(p) | total + tointeger(r.score))\"\"\"\n",
    "\n",
    "#get all 2 degree path for node, id = 0007278446; demo in neo4J to show graph\n",
    "query=\"\"\"MATCH p=(a:Product {id: '0007278446'})<-[:Reviewed*2]->(b:Product)\n",
    "RETURN p\"\"\"\n",
    "\n",
    "#Return top 5 highest cost path where second edge weight > first edge weight (Recommended Products)\n",
    "query=\"\"\"MATCH p=(a:Product {id: '0007278446'})<-[:Reviewed*2]->(b:Product)\n",
    "WITH  extract(s in relationships(p) | tointeger(s.score)) as p_collect,a,b\n",
    "WITH  p_collect[0] as s1,p_collect[1] as s2,a,b\n",
    "WHERE s2>=s1 and (b.name is not null or b.name <>\"\")\n",
    "RETURN a.id,b.id,b.name, s1,s2,s1+s2 as cost\n",
    "ORDER BY cost DESC LIMIT 5\"\"\""
   ]
  },
  {
   "cell_type": "code",
   "execution_count": null,
   "metadata": {
    "collapsed": true
   },
   "outputs": [],
   "source": [
    "graph.evaluate(query)"
   ]
  }
 ],
 "metadata": {
  "kernelspec": {
   "display_name": "Python 3",
   "language": "python",
   "name": "python3"
  },
  "language_info": {
   "codemirror_mode": {
    "name": "ipython",
    "version": 3
   },
   "file_extension": ".py",
   "mimetype": "text/x-python",
   "name": "python",
   "nbconvert_exporter": "python",
   "pygments_lexer": "ipython3",
   "version": "3.6.1"
  }
 },
 "nbformat": 4,
 "nbformat_minor": 2
}
