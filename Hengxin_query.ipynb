{
 "cells": [
  {
   "cell_type": "markdown",
   "metadata": {},
   "source": [
    "## Easy questions\n",
    "1) Which attributes have null values and if they do how many null values are there?\n",
    "2) How many items from the metadata dataset do not fall under the 5-core constraint?\n",
    "3) What is the average price and sales rank (how well the product sells within its category) of those products?\n",
    "4) Which product category contains the most of those non-5-core products?\n",
    "\n",
    "## Medium questions\n",
    "1) Average rating score of all products and also the average by each category.\n",
    "2) Can a user review the same product twice?\n",
    "3) Can two products with different IDs share the same name?\n",
    "\n",
    "## Hard questions\n",
    "4) If the length of the written review corresponds to the rating of the product.\n",
    "5) Whether individuals tend to write reviews within one product category or whether they tend to review a variety of products. Avg. number of categories reviewed per person.\n",
    "6) Do they give high ratings within one product category and low ratings in a different category. Avg. rating per category per person.\n",
    "7) Clusters of reviewers who review many of the same products. isomophism\n",
    "8) Average distance spanning any two reviewers or any two products."
   ]
  },
  {
   "cell_type": "code",
   "execution_count": 1,
   "metadata": {
    "collapsed": true
   },
   "outputs": [],
   "source": [
    "#setup neo4j instance connection\n",
    "from py2neo import Graph\n",
    "from py2neo import *\n",
    "#enter url for neo4j server here\n",
    "url=\"34.236.229.56:7474\"\n",
    "str_list=['http:/',url,'db','data']\n",
    "#enter password here\n",
    "pw=\"AgentSmith\"\n",
    "\n",
    "authenticate(url,\"neo4j\", pw)\n",
    "graph = Graph('/'.join(str_list))\n"
   ]
  },
  {
   "cell_type": "code",
   "execution_count": null,
   "metadata": {
    "collapsed": true
   },
   "outputs": [],
   "source": [
    "###1) Which attributes have null values and if they do how many null values are there?\n",
    "#number of nulls for each property\n",
    "query1=\"MATCH (n:Person) WHERE n.name IS NULL RETURN count(n) as name_null_cnt\"\n",
    "\n",
    "#number of distinct properties combination each person node has\n",
    "#since there are person nodes with only id attribute hence all other properties other than id have null values\n",
    "#same goes for product\n",
    "query2=\"MATCH (n:Person) RETURN DISTINCT keys(n)\"\n",
    "query3=\"MATCH (n:Product) RETURN DISTINCT keys(n)\"\n",
    "#find node with the most to least properties\n",
    "query4=\"MATCH (n) RETURN labels(n), keys(n), size(keys(n)), count(*) ORDER BY size(keys(n)) DESC\""
   ]
  },
  {
   "cell_type": "code",
   "execution_count": null,
   "metadata": {
    "collapsed": true
   },
   "outputs": [],
   "source": [
    "###2) How many items from the metadata dataset do not fall under the 5-core constraint?\n",
    "#find products with no reviews = 0\n",
    "query5=\"MATCH (n:Product) WHERE not ((n)<-[:Reviewed]-(:Person)) RETURN count(n)\"\n",
    "\n",
    "################\n",
    "#person who reviewed no products\n",
    "#receives SERVICE UNAVAILABLE error, might be OPTIONAL MATCH call\n",
    "\"MATCH (a:Person) OPTIONAL MATCH (a)-[r:Reviewed]->() RETURN a.id, r\""
   ]
  },
  {
   "cell_type": "code",
   "execution_count": null,
   "metadata": {
    "collapsed": true
   },
   "outputs": [],
   "source": [
    "###3) What is the average price of those products?\n",
    "#overall average price\n",
    "query6=\"MATCH (n:Product) RETURN AVG(tointeger(n.price))\"\n",
    "#average price by category\n",
    "query7=\"MATCH (n:Product) RETURN AVG(tointeger(n.price)),n.categories\""
   ]
  },
  {
   "cell_type": "code",
   "execution_count": null,
   "metadata": {
    "collapsed": true
   },
   "outputs": [],
   "source": [
    "###4) Which product category contains the most of those non-5-core products?\n",
    "#get number of products per category\n",
    "\"MATCH (n:Product) RETURN count(n),n.categories\""
   ]
  },
  {
   "cell_type": "code",
   "execution_count": null,
   "metadata": {
    "collapsed": true
   },
   "outputs": [],
   "source": [
    "###1) Average rating score of all products and also the average by each category.\n",
    "#overall average rating\n",
    "query6=\"MATCH (n:Product)-[r]-() RETURN avg(tointeger(r.score))\"\n",
    "#average rating by category\n",
    "query7=\"MATCH (n:Product)-[r]-() RETURN count(n),avg(tointeger(r.score)),n.categories\""
   ]
  },
  {
   "cell_type": "code",
   "execution_count": null,
   "metadata": {
    "collapsed": true
   },
   "outputs": [],
   "source": [
    "###2) Can a user review the same product twice?\n"
   ]
  },
  {
   "cell_type": "code",
   "execution_count": null,
   "metadata": {
    "collapsed": true
   },
   "outputs": [],
   "source": [
    "graph.evaluate(query)"
   ]
  }
 ],
 "metadata": {
  "kernelspec": {
   "display_name": "Python 3",
   "language": "python",
   "name": "python3"
  },
  "language_info": {
   "codemirror_mode": {
    "name": "ipython",
    "version": 3
   },
   "file_extension": ".py",
   "mimetype": "text/x-python",
   "name": "python",
   "nbconvert_exporter": "python",
   "pygments_lexer": "ipython3",
   "version": "3.6.1"
  }
 },
 "nbformat": 4,
 "nbformat_minor": 2
}
