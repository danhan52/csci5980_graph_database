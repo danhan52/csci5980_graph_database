{
 "cells": [
  {
   "cell_type": "markdown",
   "metadata": {},
   "source": [
    "## Product Recommendation Demo"
   ]
  },
  {
   "cell_type": "markdown",
   "metadata": {},
   "source": [
    "### Connect to AWS Neo4J instance"
   ]
  },
  {
   "cell_type": "code",
   "execution_count": null,
   "metadata": {
    "collapsed": true
   },
   "outputs": [],
   "source": []
  },
  {
   "cell_type": "markdown",
   "metadata": {},
   "source": [
    "### Basic \"cost of path\" example"
   ]
  },
  {
   "cell_type": "code",
   "execution_count": null,
   "metadata": {
    "collapsed": true
   },
   "outputs": [],
   "source": [
    "#calculate cost of path between two nodes\n",
    "query1=\"\"\"MATCH p=(a:Product {id: '0007278446'})<-[:Reviewed*2]->(b:Product {id: '0060080817'})\n",
    "          RETURN REDUCE (total = 0, r in relationships(p) | total + tointeger(r.score)) as total_cost\"\"\"\n",
    "graph.evaluate(query1)"
   ]
  },
  {
   "cell_type": "markdown",
   "metadata": {},
   "source": [
    "### Make recommendations for the book: The Warriors Princess"
   ]
  },
  {
   "cell_type": "code",
   "execution_count": null,
   "metadata": {
    "collapsed": true
   },
   "outputs": [],
   "source": [
    "#Find the book The Warrior Princess product id\n",
    "query2=\"\"\"MATCH (a:Product)\n",
    "          WHERE a.name=~\".*Warriors Princess.*\" and a.rankCat=\"Books\"\n",
    "          RETURN a\"\"\"\n",
    "graph.evaluate(query2)"
   ]
  },
  {
   "cell_type": "code",
   "execution_count": null,
   "metadata": {
    "collapsed": true
   },
   "outputs": [],
   "source": [
    "#return all products that are also reviewed by the reviewers of The Matrix (set limit to 20 for demo)\n",
    "#all 2 degree path for target node, id = 0007278446; demo in neo4J to show graph\n",
    "query3=\"\"\"MATCH p=(a:Product {id: '0007278446'})<-[:Reviewed*2]->(b:Product)\n",
    "          RETURN p\"\"\"\n",
    "graph.evaluate(query3)"
   ]
  },
  {
   "cell_type": "code",
   "execution_count": null,
   "metadata": {
    "collapsed": true
   },
   "outputs": [],
   "source": [
    "#Return top 5 highest cost path where second edge weight > first edge weight (Recommended Products)\n",
    "query4=\"\"\"MATCH p=(a:Product {id: '0007278446'})<-[:Reviewed*2]->(b:Product)\n",
    "          WITH  extract(s in relationships(p) | tointeger(s.score)) as p_collect,a,b\n",
    "          WITH  p_collect[0] as s1,p_collect[1] as s2,a,b\n",
    "          WHERE s2>=s1 and (b.name is not null or b.name <>\"\")\n",
    "          RETURN a.id,b.id,b.name, b.rankCat,s1+s2 as cost\n",
    "          ORDER BY cost DESC LIMIT 5\"\"\"\n",
    "graph.evaluate(query4)"
   ]
  },
  {
   "cell_type": "markdown",
   "metadata": {},
   "source": [
    "### A little extra if we have time"
   ]
  },
  {
   "cell_type": "code",
   "execution_count": null,
   "metadata": {
    "collapsed": true
   },
   "outputs": [],
   "source": [
    "#return number of reviews for The Matrix \n",
    "#the degree of a node\n",
    "query5=\"\"\"MATCH (a:Product {id: '0007278446'})with\n",
    "          SIZE((a:Product {id: '0007278446'})<-[:Reviewed]-()) as degree \n",
    "          RETURN degree\"\"\"\n",
    "graph.evaluate(query5)"
   ]
  }
 ],
 "metadata": {
  "kernelspec": {
   "display_name": "Python 3",
   "language": "python",
   "name": "python3"
  },
  "language_info": {
   "codemirror_mode": {
    "name": "ipython",
    "version": 3
   },
   "file_extension": ".py",
   "mimetype": "text/x-python",
   "name": "python",
   "nbconvert_exporter": "python",
   "pygments_lexer": "ipython3",
   "version": "3.6.1"
  }
 },
 "nbformat": 4,
 "nbformat_minor": 2
}
